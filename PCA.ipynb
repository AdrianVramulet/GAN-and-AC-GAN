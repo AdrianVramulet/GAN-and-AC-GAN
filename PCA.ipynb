{
 "cells": [
  {
   "cell_type": "markdown",
   "metadata": {},
   "source": [
    "## Install packages\n",
    "Run this only once"
   ]
  },
  {
   "cell_type": "code",
   "execution_count": null,
   "metadata": {},
   "outputs": [],
   "source": [
    "# Install packages\n",
    "conda install tensorflow\n",
    "conda install keras\n",
    "conda install -c conda-forge shapely"
   ]
  },
  {
   "cell_type": "markdown",
   "metadata": {},
   "source": [
    "## Import files and load dataset"
   ]
  },
  {
   "cell_type": "code",
   "execution_count": 5,
   "metadata": {
    "scrolled": false
   },
   "outputs": [
    {
     "name": "stdout",
     "output_type": "stream",
     "text": [
      "Populating the interactive namespace from numpy and matplotlib\n"
     ]
    },
    {
     "name": "stderr",
     "output_type": "stream",
     "text": [
      "C:\\Users\\20183524\\Anaconda3\\lib\\site-packages\\IPython\\core\\magics\\pylab.py:160: UserWarning: pylab import has clobbered these variables: ['random', 'Generator']\n",
      "`%matplotlib` prevents importing * from pylab and numpy\n",
      "  \"\\n`%matplotlib` prevents importing * from pylab and numpy\"\n"
     ]
    }
   ],
   "source": [
    "# Import files\n",
    "import numpy as np\n",
    "import pandas as pd\n",
    "import math\n",
    "from typing import Any, List, Tuple, Set, Dict, Sequence, Iterator, Iterable, Generator\n",
    "import requests, gzip, os, hashlib\n",
    "%pylab inline\n",
    "import doctest\n",
    "import seaborn as sns\n",
    "import csv\n",
    "\n",
    "from keras.datasets import mnist\n",
    "from matplotlib import pyplot\n",
    "\n",
    "import matplotlib.pyplot as plt\n",
    "%matplotlib inline\n",
    "\n",
    "import random\n",
    "from tensorflow import keras\n",
    "from tensorflow.keras import layers\n",
    "import tensorflow as tf\n",
    "\n",
    "import itertools"
   ]
  },
  {
   "cell_type": "code",
   "execution_count": 6,
   "metadata": {
    "scrolled": true
   },
   "outputs": [],
   "source": [
    "#loading the dataset\n",
    "(train_X, train_y), (test_X, test_y) = mnist.load_data()"
   ]
  },
  {
   "cell_type": "markdown",
   "metadata": {},
   "source": [
    "## Standard functions"
   ]
  },
  {
   "cell_type": "code",
   "execution_count": 7,
   "metadata": {},
   "outputs": [],
   "source": [
    "def plot_digit(image):\n",
    "    \"Plots a digit\"\n",
    "    fig = plt.figure\n",
    "    plt.imshow(image, cmap='gray')\n",
    "    plt.show()"
   ]
  },
  {
   "cell_type": "markdown",
   "metadata": {},
   "source": [
    "#### Weighted covariance\n",
    "Returns the weighted covariance matrix\n",
    "\n",
    "`data`: list of arrays, containing\n",
    "- horizontal position\n",
    "- vertical position\n",
    "- grayscale value\n",
    "\n",
    "of each pixel"
   ]
  },
  {
   "cell_type": "code",
   "execution_count": 8,
   "metadata": {},
   "outputs": [],
   "source": [
    "def weighted_Cov(image: Iterator[Iterator[int]], pixel_mids: Iterator[Iterator[float]], d: int = 28):\n",
    "    \"\"\"Returns the weighted covariance matrix for a digit I.\n",
    "    image: list of lists containing graycale values\n",
    "    pixel_mids: coordinates of pixel's middle points, ordered as in image\n",
    "    d: image dimensions (standard 28)\n",
    "    \"\"\"\n",
    "    \n",
    "    # Compute sum of grayscale values\n",
    "    V_1 = sum([sum(pixels) for pixels in image])\n",
    "    \n",
    "    # Weighted averages X and Y\n",
    "    X_bar, Y_bar = 0, 0\n",
    "    for x in range(d):\n",
    "        for y in range(d):\n",
    "            X_bar += image[x][y] * pixel_mids[x][y][0]\n",
    "            Y_bar += image[x][y] * pixel_mids[x][y][1]\n",
    "    X_bar = X_bar / V_1\n",
    "    Y_bar = Y_bar / V_1\n",
    "    \n",
    "    # Weighted variances\n",
    "    var_X = 0\n",
    "    var_Y = 0\n",
    "    cov_XY = 0\n",
    "    for x in range(d):\n",
    "        for y in range(d):\n",
    "            var_X += image[x][y] * ((pixel_mids[x][y][0] - X_bar)**2)\n",
    "            var_Y += image[x][y] * ((pixel_mids[x][y][1] - Y_bar)**2)\n",
    "            cov_XY += image[x][y] * (pixel_mids[x][y][0] - X_bar) * (pixel_mids[x][y][1] - Y_bar)\n",
    "    var_X = var_X / V_1\n",
    "    var_Y = var_Y / V_1\n",
    "    cov_XY = cov_XY / V_1\n",
    "    \n",
    "    return array([[var_X, cov_XY], [cov_XY, var_Y]])"
   ]
  },
  {
   "cell_type": "markdown",
   "metadata": {},
   "source": [
    "#### Principal axis"
   ]
  },
  {
   "cell_type": "code",
   "execution_count": 10,
   "metadata": {},
   "outputs": [],
   "source": [
    "def principal_axis(cov_Matrix: Iterator[Iterator[float]]):\n",
    "    \"\"\"Returns the principal axis (ordered by new horizontal, vertical).\n",
    "    cov_Matrix: covariance matrix of an image\n",
    "    \"\"\"\n",
    "    \n",
    "    # Compute eigenvalues and eigenvectors\n",
    "    eigenvalues, eigenvectors = np.linalg.eigh(cov_Matrix)\n",
    "    \n",
    "    # Set principal axis to be the second in the list of axes\n",
    "    if abs(eigenvectors[0][1]) > abs(eigenvectors[1][1]):\n",
    "        eigenvectors = [ eigenvectors[1], eigenvectors[0] ]\n",
    "        eigenvalues = [ eigenvalues[1], eigenvalues[0] ] \n",
    "\n",
    "    # Ensure proper directions of eigenvectors\n",
    "    if eigenvectors[0][0] < 0: # Secondary axis is in the second or third quadrant\n",
    "        eigenvectors[0] = [ -eigenvectors[0][0], -eigenvectors[0][1] ]\n",
    "    if eigenvectors[1][1] < 0: # Primary axis is in the third or fourth quadrant\n",
    "        eigenvectors[1] = [ -eigenvectors[1][0], -eigenvectors[1][1] ]\n",
    "      \n",
    "    return eigenvectors"
   ]
  },
  {
   "cell_type": "markdown",
   "metadata": {},
   "source": [
    "#### t functions"
   ]
  },
  {
   "cell_type": "code",
   "execution_count": 11,
   "metadata": {},
   "outputs": [],
   "source": [
    "def find_z_c (axes: Iterator[Iterator[float]], d: int = 28):\n",
    "    \"\"\"Returns transformation parameters z and c\n",
    "    axes: projection matrix, i.e. unit vectors of the axes\n",
    "    d: dimension (nr of pixels)\n",
    "    \"\"\"\n",
    "    if axes[1][0] > 0 and axes[1][1] > 0: # Principal axis in first quadrant\n",
    "        c = axes[1][0] * d + axes[1][1] * d\n",
    "        z = [ axes[0][1] * d, 0 ]\n",
    "    else: # Principal axis in second quadrant\n",
    "        c = axes[0][0] * d + axes[0][1] * d\n",
    "        z = [ 0, axes[1][0] * d ]\n",
    "    \n",
    "    return z, c / d\n",
    "\n",
    "def inverse_2x2 (A):\n",
    "    \"\"\"Returns the inverse of the 2x2 matrix A\n",
    "    Assumptions: det(A) != 0, i.e. A[0][0] * A[1][1] - A[0][1] * A[1][0] != 0\n",
    "    \"\"\"\n",
    "    \n",
    "    det = A[0][0] * A[1][1] - A[0][1] * A[1][0]\n",
    "    \n",
    "    return [ [ A[1][1]/det, -A[0][1]/det ], [ -A[1][0]/det, A[0][0]/det ] ]\n",
    "\n",
    "def function_t (A, z, c, p):\n",
    "    \"\"\"Computes the transformation map of p (to the new grid)\n",
    "    A: projection matrix (i.e. unit vectors of axes)\n",
    "    z: vector for positivity\n",
    "    c: scaling factor\n",
    "    \"\"\"\n",
    "    \n",
    "    x = ((A[0][0] * p[0]) + (A[0][1] * p[1])) - z[0]\n",
    "    y = (A[1][0] * p[0] + A[1][1] * p[1]) - z[1]\n",
    "    \n",
    "    return [ x/c, y/c ]\n",
    "\n",
    "def inverse_t (A, z, c, p):\n",
    "    \"\"\"Computes the inverse transformation of p (to the original grid)\n",
    "    A: projection matrix (i.e. unit vectors of axes)\n",
    "    z: vector for positivity\n",
    "    c: scaling factor\n",
    "    \"\"\"\n",
    "    \n",
    "    A_inv = inverse_2x2(A)\n",
    "    \n",
    "    x = (A_inv[0][0] * (c * p[0] + z[0]) + A_inv[0][1] * (c * p[1] + z[1]))\n",
    "    y = (A_inv[1][0] * (c * p[0] + z[0]) + A_inv[1][1] * (c * p[1] + z[1]))\n",
    "    \n",
    "    return [ x, y ]"
   ]
  },
  {
   "cell_type": "markdown",
   "metadata": {},
   "source": [
    "#### Find grayscale value"
   ]
  },
  {
   "cell_type": "code",
   "execution_count": 12,
   "metadata": {},
   "outputs": [],
   "source": [
    "def find_g (image, A, z, c, p, d = 28):\n",
    "    \"\"\"Finds the grayscale value of a point p in the new grid\n",
    "    image: list of rows with pixels\n",
    "    A: projection matrix (i.e. unit vectors of axes)\n",
    "    z: vector for positivity\n",
    "    c: scaling factor\n",
    "    p: point at which grayscale value needs to be determined\n",
    "    d: dimension of image (standard 28)\n",
    "    \"\"\"\n",
    "    \n",
    "    # Find original coordinates\n",
    "    q = inverse_t(A, z, c, p)\n",
    "    \n",
    "    # Determine position of coordinates in image\n",
    "    column = math.floor(q[0])\n",
    "    row = d - math.ceil(q[1])\n",
    "    \n",
    "    if 0 <= row <= d - 1 and 0 <= column <= d - 1: # Pixel can be transformed to old grid\n",
    "        return image[ row ][ column ]\n",
    "    \n",
    "    return 0"
   ]
  },
  {
   "cell_type": "markdown",
   "metadata": {},
   "source": [
    "#### Rasterize"
   ]
  },
  {
   "cell_type": "code",
   "execution_count": 13,
   "metadata": {},
   "outputs": [],
   "source": [
    "def rasterize (image, A, z, c, d = 28):\n",
    "    \"\"\" Projects an image onto axes A and forms a new image of the results.\n",
    "    image: original list with rows of grayscale values\n",
    "    A: projection axes\n",
    "    z: transformation vector\n",
    "    c: transformation scale\n",
    "    d: dimensions of image (standard 28)\n",
    "    \"\"\"\n",
    "    # Initialize list of grayscale values\n",
    "    grayscale = []\n",
    "    m = 5 # Division of pixel into m x m subpixels\n",
    "    \n",
    "    for y in range(d):\n",
    "        y = d - y - 1 # Actual coordinate value\n",
    "        \n",
    "        # Initialize list of grayscale values in a row\n",
    "        row = []\n",
    "        for x in range(d):\n",
    "            \n",
    "            g = 0\n",
    "\n",
    "            for k in range(0, m):\n",
    "                x_sub = x + k/m + 0.5 * (1/m) # x-value of subpixel\n",
    "\n",
    "                for l in range(0, m, 1):\n",
    "                    y_sub = y + l/m + 0.5 * (1/m) # y-value of subpixel\n",
    "                    # Add grayscale value of subpixel\n",
    "                    g += find_g(image, A, z, c, [x_sub, y_sub])\n",
    "            row.append(int(round(g / (m**2))))\n",
    "            \n",
    "        grayscale.append(row)\n",
    "    \n",
    "    return grayscale"
   ]
  },
  {
   "cell_type": "markdown",
   "metadata": {},
   "source": [
    "#### Perform PCA\n",
    "Executes the PCA procedure for an image"
   ]
  },
  {
   "cell_type": "code",
   "execution_count": 14,
   "metadata": {},
   "outputs": [],
   "source": [
    "d = 28\n",
    "pixel_mids_arranged = [ [ ((x + 0.5) % d, d - y - 0.5) for x in range(d)] for y in range(d) ]\n",
    "\n",
    "def perform_PCA (image, d = 28):\n",
    "    \"\"\"Executes PCA process for image.\n",
    "    image: list of rows with grayscale values\n",
    "    \"\"\"\n",
    "    \n",
    "    # Compute covariance matrix and determine axes\n",
    "    covariance_matrix = weighted_Cov(image, pixel_mids_arranged)\n",
    "    axes = principal_axis(covariance_matrix)\n",
    "    \n",
    "    # Find constants for transformation map\n",
    "    z, c = find_z_c(axes)\n",
    "\n",
    "    # Produce new image by projection onto axes\n",
    "    return rasterize(image, axes, z, c)"
   ]
  },
  {
   "cell_type": "markdown",
   "metadata": {},
   "source": [
    "# Execute PCA for all digits"
   ]
  },
  {
   "cell_type": "code",
   "execution_count": null,
   "metadata": {
    "scrolled": false
   },
   "outputs": [],
   "source": [
    "train_X_PCA = []\n",
    "for i in range(len(train_X)):\n",
    "    train_X_PCA.append( perform_PCA( train_X[i] ) )"
   ]
  }
 ],
 "metadata": {
  "kernelspec": {
   "display_name": "Python 3",
   "language": "python",
   "name": "python3"
  },
  "language_info": {
   "codemirror_mode": {
    "name": "ipython",
    "version": 3
   },
   "file_extension": ".py",
   "mimetype": "text/x-python",
   "name": "python",
   "nbconvert_exporter": "python",
   "pygments_lexer": "ipython3",
   "version": "3.7.6"
  }
 },
 "nbformat": 4,
 "nbformat_minor": 4
}
